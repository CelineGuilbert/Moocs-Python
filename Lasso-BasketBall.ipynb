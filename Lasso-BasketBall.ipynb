{
 "cells": [
  {
   "cell_type": "markdown",
   "metadata": {},
   "source": [
    "Lasso avec Python\n",
    "\n",
    "La régression Lasso, contrairement à Ridge, permet de réaliser une sélection de variables en mettant à zéro sélectivement les coefficients\n",
    "\n",
    "\n",
    "Jeu de données de 16 features pour estimer le salaire des joueurs (LNSALARY est la variable cible), ou plus exactement le logarithme népérien de leur salaire (car la distribution est dissymétrique)\n",
    "\n",
    "Nous utiliserons l’erreur quadratique moyenne (MSE : mean squared\n",
    "error) pour mesurer les qualités prédictives des modèles."
   ]
  },
  {
   "cell_type": "code",
   "execution_count": 12,
   "metadata": {},
   "outputs": [],
   "source": [
    "# -*- coding: utf-8 -*-\n",
    "#charger les données\n",
    "import numpy as np\n",
    "import matplotlib.pyplot as plt\n",
    "import pandas\n",
    "bb = pandas.read_excel(\"Baseball.xlsx\",sheet_name=0)"
   ]
  },
  {
   "cell_type": "code",
   "execution_count": 6,
   "metadata": {},
   "outputs": [
    {
     "name": "stdout",
     "output_type": "stream",
     "text": [
      "(337, 17)\n",
      "           BatAVG      OnBase        Runs        Hits     Doubles     Triples  \\\n",
      "count  337.000000  337.000000  337.000000  337.000000  337.000000  337.000000   \n",
      "mean     0.257825    0.323973   46.697329   92.833828   16.673591    2.338279   \n",
      "std      0.039546    0.047132   29.020166   51.896322   10.452001    2.543336   \n",
      "min      0.063000    0.063000    0.000000    1.000000    0.000000    0.000000   \n",
      "25%      0.238000    0.297000   22.000000   51.000000    9.000000    0.000000   \n",
      "50%      0.260000    0.323000   41.000000   91.000000   15.000000    2.000000   \n",
      "75%      0.281000    0.354000   69.000000  136.000000   23.000000    3.000000   \n",
      "max      0.457000    0.486000  133.000000  216.000000   49.000000   15.000000   \n",
      "\n",
      "         HomeRuns         RBI       Walks  StrikeOuts  StolenBases  \\\n",
      "count  337.000000  337.000000  337.000000  337.000000   337.000000   \n",
      "mean     9.097923   44.020772   35.017804   56.706231     8.246291   \n",
      "std      9.289934   29.559406   24.842474   33.828784    11.664782   \n",
      "min      0.000000    0.000000    0.000000    1.000000     0.000000   \n",
      "25%      2.000000   21.000000   15.000000   31.000000     1.000000   \n",
      "50%      6.000000   39.000000   30.000000   49.000000     4.000000   \n",
      "75%     15.000000   66.000000   49.000000   78.000000    11.000000   \n",
      "max     44.000000  133.000000  138.000000  175.000000    76.000000   \n",
      "\n",
      "           Errors  FreeAgElig   FreeAge91     ArbElig       Arb91    LNSALARY  \n",
      "count  337.000000  337.000000  337.000000  337.000000  337.000000  337.000000  \n",
      "mean     6.771513    0.397626    0.115727    0.192878    0.029674    6.535579  \n",
      "std      5.927490    0.490135    0.320373    0.395145    0.169938    1.176513  \n",
      "min      0.000000    0.000000    0.000000    0.000000    0.000000    4.690000  \n",
      "25%      3.000000    0.000000    0.000000    0.000000    0.000000    5.440000  \n",
      "50%      5.000000    0.000000    0.000000    0.000000    0.000000    6.610000  \n",
      "75%      9.000000    1.000000    0.000000    0.000000    0.000000    7.670000  \n",
      "max     31.000000    1.000000    1.000000    1.000000    1.000000    8.720000  \n"
     ]
    }
   ],
   "source": [
    "#description\n",
    "print(bb.shape)\n",
    "print(bb.describe())"
   ]
  },
  {
   "cell_type": "markdown",
   "metadata": {},
   "source": [
    "Distribution dissymétrique du salaire (skewed right)-> passage en LOG"
   ]
  },
  {
   "cell_type": "code",
   "execution_count": 30,
   "metadata": {},
   "outputs": [
    {
     "data": {
      "image/png": "[encoded data removed]",
      "text/plain": [
       "<Figure size 720x576 with 1 Axes>"
      ]
     },
     "metadata": {},
     "output_type": "display_data"
    }
   ],
   "source": [
    "bb['SALARY']= np.exp(bb['LNSALARY'])\n",
    "\n",
    "fig , ax =  plt.subplots(1,1,figsize=(10,8),facecolor = 'lime')\n",
    "ax.hist(bb[\"SALARY\"])\n",
    "plt.title(\"SALARY\")\n",
    "plt.show()"
   ]
  },
  {
   "cell_type": "code",
   "execution_count": 31,
   "metadata": {},
   "outputs": [
    {
     "data": {
      "image/png": "[encoded data removed]",
      "text/plain": [
       "<Figure size 720x576 with 1 Axes>"
      ]
     },
     "metadata": {},
     "output_type": "display_data"
    }
   ],
   "source": [
    "fig , ax =  plt.subplots(1,1,figsize=(10,8),facecolor = 'lime')\n",
    "ax.hist(bb[\"LNSALARY\"])\n",
    "plt.title(\"LNSALARY\")\n",
    "plt.show()"
   ]
  },
  {
   "cell_type": "code",
   "execution_count": 36,
   "metadata": {},
   "outputs": [],
   "source": [
    "bb.drop(['SALARY'], axis=1, inplace=True)"
   ]
  },
  {
   "cell_type": "code",
   "execution_count": 38,
   "metadata": {},
   "outputs": [
    {
     "name": "stdout",
     "output_type": "stream",
     "text": [
      "(200, 17)\n",
      "(137, 17)\n"
     ]
    },
    {
     "name": "stderr",
     "output_type": "stream",
     "text": [
      "C:\\Users\\n000187816\\AppData\\Local\\Continuum\\anaconda3\\lib\\site-packages\\sklearn\\model_selection\\_split.py:2026: FutureWarning: From version 0.21, test_size will always complement train_size unless both are specified.\n",
      "  FutureWarning)\n"
     ]
    }
   ],
   "source": [
    "#subdivision\n",
    "#Nous optons pour ntrain = 200 observations pour l’apprentissage, ntest = 137 pour l’évaluation\n",
    "from sklearn.model_selection import train_test_split\n",
    "bbTrain, bbTest = train_test_split(bb,train_size = 200,random_state=69780)\n",
    "\n",
    "\n",
    "#vérifications\n",
    "print(bbTrain.shape)\n",
    "print(bbTest.shape)"
   ]
  },
  {
   "cell_type": "markdown",
   "metadata": {},
   "source": [
    "Régression linéaire multiple avec statsmodel"
   ]
  },
  {
   "cell_type": "code",
   "execution_count": 42,
   "metadata": {},
   "outputs": [
    {
     "name": "stdout",
     "output_type": "stream",
     "text": [
      "(200, 16)\n",
      "     const  BatAVG  OnBase  Runs  Hits  Doubles  Triples  HomeRuns  RBI  \\\n",
      "256    1.0   0.267   0.333    68   130       22        2        20   69   \n",
      "72     1.0   0.211   0.274     5    12        2        0         0    3   \n",
      "89     1.0   0.255   0.321    39   108       22        8         3   26   \n",
      "66     1.0   0.285   0.331    84   170       28       10         8   54   \n",
      "244    1.0   0.265   0.322    44   102       17        1         6   51   \n",
      "\n",
      "     Walks  StrikeOuts  StolenBases  Errors  FreeAgElig  FreeAge91  ArbElig  \\\n",
      "256     45          77           32       4           0          0        1   \n",
      "72       3           2            0       4           0          0        0   \n",
      "89      42          61            2       8           0          0        1   \n",
      "66      42          65           34       5           0          0        1   \n",
      "244     33          56            3      18           1          1        0   \n",
      "\n",
      "     Arb91  \n",
      "256      0  \n",
      "72       0  \n",
      "89       0  \n",
      "66       0  \n",
      "244      0  \n"
     ]
    }
   ],
   "source": [
    "#matrice des explicatives\n",
    "XTrain = bbTrain.iloc[:,:16]\n",
    "print(XTrain.shape)\n",
    "\n",
    "#à laquelle est ajoutée la constante\n",
    "import statsmodels.api as sm\n",
    "X1Train = sm.add_constant(XTrain)\n",
    "\n",
    "#vérification\n",
    "print(X1Train.head())"
   ]
  },
  {
   "cell_type": "code",
   "execution_count": 44,
   "metadata": {},
   "outputs": [
    {
     "name": "stdout",
     "output_type": "stream",
     "text": [
      "                            OLS Regression Results                            \n",
      "==============================================================================\n",
      "Dep. Variable:               LNSALARY   R-squared:                       0.799\n",
      "Model:                            OLS   Adj. R-squared:                  0.781\n",
      "Method:                 Least Squares   F-statistic:                     45.38\n",
      "Date:                Fri, 22 Feb 2019   Prob (F-statistic):           6.05e-55\n",
      "Time:                        18:57:52   Log-Likelihood:                -148.19\n",
      "No. Observations:                 200   AIC:                             330.4\n",
      "Df Residuals:                     183   BIC:                             386.5\n",
      "Df Model:                          16                                         \n",
      "Covariance Type:            nonrobust                                         \n",
      "===============================================================================\n",
      "                  coef    std err          t      P>|t|      [0.025      0.975]\n",
      "-------------------------------------------------------------------------------\n",
      "const           5.4578      0.295     18.487      0.000       4.875       6.040\n",
      "BatAVG          2.6434      2.793      0.946      0.345      -2.868       8.155\n",
      "OnBase         -3.4560      2.393     -1.444      0.150      -8.177       1.265\n",
      "Runs           -0.0090      0.005     -1.653      0.100      -0.020       0.002\n",
      "Hits            0.0076      0.003      2.397      0.018       0.001       0.014\n",
      "Doubles        -0.0007      0.009     -0.076      0.939      -0.018       0.017\n",
      "Triples         0.0112      0.023      0.480      0.632      -0.035       0.057\n",
      "HomeRuns        0.0157      0.012      1.282      0.202      -0.008       0.040\n",
      "RBI             0.0051      0.005      1.008      0.315      -0.005       0.015\n",
      "Walks           0.0107      0.005      2.362      0.019       0.002       0.020\n",
      "StrikeOuts     -0.0051      0.002     -2.449      0.015      -0.009      -0.001\n",
      "StolenBases     0.0056      0.004      1.274      0.204      -0.003       0.014\n",
      "Errors         -0.0167      0.007     -2.245      0.026      -0.031      -0.002\n",
      "FreeAgElig      1.5934      0.107     14.954      0.000       1.383       1.804\n",
      "FreeAge91      -0.3648      0.129     -2.830      0.005      -0.619      -0.110\n",
      "ArbElig         1.2669      0.119     10.634      0.000       1.032       1.502\n",
      "Arb91           0.3425      0.326      1.052      0.294      -0.300       0.985\n",
      "==============================================================================\n",
      "Omnibus:                       14.369   Durbin-Watson:                   2.263\n",
      "Prob(Omnibus):                  0.001   Jarque-Bera (JB):               33.521\n",
      "Skew:                          -0.240   Prob(JB):                     5.26e-08\n",
      "Kurtosis:                       4.947   Cond. No.                     1.45e+04\n",
      "==============================================================================\n",
      "\n",
      "Warnings:\n",
      "[1] Standard Errors assume that the covariance matrix of the errors is correctly specified.\n",
      "[2] The condition number is large, 1.45e+04. This might indicate that there are\n",
      "strong multicollinearity or other numerical problems.\n"
     ]
    }
   ],
   "source": [
    "#vecteur cible\n",
    "yTrain = bbTrain.iloc[:,16]\n",
    "\n",
    "#lancer la régression\n",
    "reg = sm.OLS(yTrain,X1Train)\n",
    "resReg = reg.fit()\n",
    "#affichage\n",
    "print(resReg.summary())"
   ]
  },
  {
   "cell_type": "markdown",
   "metadata": {},
   "source": [
    "Le R² = 0.799 (coefficient de détermination) : le modèle explique près de 80% de la\n",
    "variabilité de la variable cible. Les 6 explicatives significatives à 5% (p-value < 0.05) dans le\n",
    "modèle sont : Hits, Walks, StrikeOuts, FreeAgElig, FreeAge91 et ArbElig.\n",
    "\n",
    "Remarque : A ce stade, nous devrions réaliser une sélection de variables (approche fondée\n",
    "sur le F-partiel ou s’appuyant sur l’optimisation des critères AIC / BIC par exemple) avant de\n",
    "procéder à la prédiction. Nous choisissons néanmoins de les conserver toutes dans ce tutoriel\n",
    "pour simplifier la démarche"
   ]
  },
  {
   "cell_type": "code",
   "execution_count": 45,
   "metadata": {},
   "outputs": [
    {
     "name": "stdout",
     "output_type": "stream",
     "text": [
      "[5.29997323 6.84613232 7.55142788 5.22087383 5.26194944 7.15632082\n",
      " 7.36727543 5.51548807 8.06390768 5.32165209 6.91716589 5.41398391\n",
      " 6.93810482 5.83327327 7.85112012 5.31306496 7.12192876 5.59313443\n",
      " 6.71741186 5.36641471 7.44937662 5.23380778 8.11776796 7.59218883\n",
      " 6.70587705 5.29312511 7.6391306  5.32942865 5.23724942 7.90629044\n",
      " 6.41704116 6.63647731 6.01574669 6.00362182 5.75163616 6.05905471\n",
      " 5.24539717 4.97209752 5.23552981 7.569368   7.98912058 5.53956841\n",
      " 7.88799593 7.97457327 7.1372244  6.98132255 7.15488267 7.99555784\n",
      " 5.68073826 5.28952343 6.70988174 7.48177018 5.17415873 7.01767749\n",
      " 5.15905243 5.25498815 5.22436309 7.43343467 7.76868848 6.88649216\n",
      " 5.6415536  7.35174624 8.14955073 7.75458064 6.11058461 7.18777541\n",
      " 6.06307365 5.16830624 7.0459883  5.99942753 6.04232058 5.15336918\n",
      " 5.76306512 7.1262623  7.66533357 5.24463367 5.42459435 6.68340058\n",
      " 5.41798834 8.19045115 7.25033081 7.31325132 5.96905192 5.28074053\n",
      " 8.12502299 8.01427805 6.93544367 5.95219082 6.45009922 6.6504542\n",
      " 7.16402651 7.02815031 5.56486258 5.25741192 5.26402947 5.68521487\n",
      " 5.36235897 7.44265227 5.62988277 7.02144478 5.16754536 7.61418251\n",
      " 6.70516029 7.15445006 5.2780404  5.21793178 7.98938611 5.05010129\n",
      " 7.86334581 7.71943122 5.19634432 7.38725403 5.07043771 8.10047068\n",
      " 8.28594778 7.70749503 5.51613739 6.79171428 5.68402466 5.36237962\n",
      " 5.41653629 4.99807102 7.20913764 7.31446216 7.0707599  7.75132516\n",
      " 8.03087504 7.11831557 5.3081953  6.29226229 4.9433586  5.02796527\n",
      " 7.25036592 6.89784233 7.39115746 7.63883082 6.0836226 ]\n"
     ]
    }
   ],
   "source": [
    "#matrice des descripteurs pour échantillon test\n",
    "XTest = bbTest.iloc[:,:16]\n",
    "X1Test = sm.add_constant(XTest)\n",
    "\n",
    "#appliquer le modèle\n",
    "ypReg = reg.predict(resReg.params,X1Test)\n",
    "print(ypReg)"
   ]
  },
  {
   "cell_type": "code",
   "execution_count": 46,
   "metadata": {},
   "outputs": [
    {
     "data": {
      "image/png": "[encoded data removed]",
      "text/plain": [
       "<Figure size 432x288 with 1 Axes>"
      ]
     },
     "metadata": {},
     "output_type": "display_data"
    }
   ],
   "source": [
    "#y obs. sur l'échantillon test\n",
    "yTest = bbTest.iloc[:,16]\n",
    "\n",
    "#librairie numpy\n",
    "import numpy\n",
    "\n",
    "#graphique\n",
    "import matplotlib.pyplot as plt\n",
    "plt.scatter(yTest,ypReg)\n",
    "plt.plot(numpy.arange(4,10,0.5),numpy.arange(4,10,0.5))\n",
    "plt.xlabel(\"Observed values\")\n",
    "plt.ylabel(\"Predicted values\")\n",
    "plt.show()"
   ]
  },
  {
   "cell_type": "markdown",
   "metadata": {},
   "source": [
    "Les points devraient se situer tout au long de la diagonale principale lorsque les prédictions\n",
    "sont parfaites. Dans notre cas (Figure 1), la régression est relativement bonne. Le R²=0.799\n",
    "obtenu ci-dessus le laissait augurer. On note néanmoins que certains points sont très mal\n",
    "modélisés, ils sont très loin de la diagonale."
   ]
  },
  {
   "cell_type": "code",
   "execution_count": 47,
   "metadata": {},
   "outputs": [
    {
     "name": "stdout",
     "output_type": "stream",
     "text": [
      "0.33521309587415726\n"
     ]
    }
   ],
   "source": [
    "#mesurer le MSE\n",
    "from sklearn.metrics import mean_squared_error\n",
    "print(mean_squared_error(yTest,ypReg))"
   ]
  },
  {
   "cell_type": "markdown",
   "metadata": {},
   "source": [
    "Régression Lasso\n",
    "\n",
    "Il est préférable de centrer et réduire les variables dans la régression régularisée afin que le\n",
    "coefficient de pénalité α (noté λ) agisse de manière homogène\n",
    "sur l’ensemble des coefficients de la régression"
   ]
  },
  {
   "cell_type": "code",
   "execution_count": 48,
   "metadata": {},
   "outputs": [],
   "source": [
    "#centrer et réduire les données d'apprentissage\n",
    "from sklearn.preprocessing import StandardScaler\n",
    "sc = StandardScaler()\n",
    "ZTrain =sc.fit_transform(bbTrain)"
   ]
  },
  {
   "cell_type": "code",
   "execution_count": 56,
   "metadata": {},
   "outputs": [
    {
     "name": "stdout",
     "output_type": "stream",
     "text": [
      "[2.56955e-01 3.24015e-01 4.69900e+01 9.20400e+01 1.63800e+01 2.32500e+00\n",
      " 8.92000e+00 4.32900e+01 3.54800e+01 5.47500e+01 8.51500e+00 6.59000e+00\n",
      " 4.35000e-01 1.45000e-01 1.95000e-01 1.50000e-02 6.60085e+00]\n"
     ]
    }
   ],
   "source": [
    "#moyennes des variables\n",
    "print(sc.mean_)"
   ]
  },
  {
   "cell_type": "code",
   "execution_count": 57,
   "metadata": {},
   "outputs": [
    {
     "name": "stdout",
     "output_type": "stream",
     "text": [
      "[1.90247298e-03 2.69822477e-03 8.90979900e+02 2.88477840e+03\n",
      " 1.11605600e+02 6.37937500e+00 7.89936000e+01 8.65915900e+02\n",
      " 6.70629600e+02 1.07084750e+03 1.52309775e+02 3.59419000e+01\n",
      " 2.45775000e-01 1.23975000e-01 1.56975000e-01 1.47750000e-02\n",
      " 1.28024478e+00]\n"
     ]
    }
   ],
   "source": [
    "#variance des variables\n",
    "print(sc.var_)"
   ]
  },
  {
   "cell_type": "code",
   "execution_count": 58,
   "metadata": {},
   "outputs": [
    {
     "name": "stdout",
     "output_type": "stream",
     "text": [
      "[-9.72555370e-16  3.10862447e-17 -6.21724894e-17 -8.88178420e-17\n",
      "  1.06581410e-16 -9.99200722e-17 -4.44089210e-18  5.32907052e-17\n",
      "  1.24344979e-16 -1.77635684e-17 -8.88178420e-18 -4.44089210e-18\n",
      " -2.66453526e-17  1.02140518e-16  4.44089210e-18 -2.22044605e-18\n",
      " -2.39808173e-16]\n"
     ]
    }
   ],
   "source": [
    "#affichage des moyennes après transformations\n",
    "#Les moyennes des variables transformées sont bien nulles (aux erreurs de troncature près) :\n",
    "print(numpy.mean(ZTrain,axis=0))"
   ]
  },
  {
   "cell_type": "code",
   "execution_count": 59,
   "metadata": {},
   "outputs": [
    {
     "name": "stdout",
     "output_type": "stream",
     "text": [
      "[1. 1. 1. 1. 1. 1. 1. 1. 1. 1. 1. 1. 1. 1. 1. 1. 1.]\n"
     ]
    }
   ],
   "source": [
    "#affichage des variances itou\n",
    "# variances égales à 1\n",
    "print(numpy.var(ZTrain,axis=0))"
   ]
  },
  {
   "cell_type": "code",
   "execution_count": 61,
   "metadata": {},
   "outputs": [
    {
     "name": "stdout",
     "output_type": "stream",
     "text": [
      "Lasso(alpha=1.0, copy_X=True, fit_intercept=False, max_iter=1000,\n",
      "   normalize=False, positive=False, precompute=False, random_state=None,\n",
      "   selection='cyclic', tol=0.0001, warm_start=False)\n"
     ]
    }
   ],
   "source": [
    "#Nous pouvons lancer la régression Lasso de la librairie « scikit-learn ». Nous précisons que la\n",
    "#constante n’est pas nécessaire puisque toutes les variables sont centrées, et qu’il n’est pas\n",
    "#utile de les normaliser puisqu’elles ont été standardisées en amont. Les autres paramètres\n",
    "#sont laissés pas défaut\n",
    "\n",
    "#régression Lasso, paramètres par défaut (alpha  = 1.0)\n",
    "from sklearn.linear_model import Lasso\n",
    "regLasso1 = Lasso(fit_intercept=False,normalize=False)\n",
    "print(regLasso1)"
   ]
  },
  {
   "cell_type": "markdown",
   "metadata": {},
   "source": [
    "nous verrons par la suite le réajustement de l'alpha"
   ]
  },
  {
   "cell_type": "code",
   "execution_count": 62,
   "metadata": {},
   "outputs": [
    {
     "name": "stdout",
     "output_type": "stream",
     "text": [
      "[0. 0. 0. 0. 0. 0. 0. 0. 0. 0. 0. 0. 0. 0. 0. 0.]\n"
     ]
    }
   ],
   "source": [
    "#apprentissage\n",
    "regLasso1.fit(ZTrain[:,:16],ZTrain[:,16])\n",
    "\n",
    "#les coefficients\n",
    "print(regLasso1.coef_)"
   ]
  },
  {
   "cell_type": "markdown",
   "metadata": {},
   "source": [
    "Ils sont tous nuls. Difficile de réaliser une prédiction performante avec ça. Manifestement, la\n",
    "valeur (α = 1.0) ne convient pas\n",
    "\n",
    "Comment peut-on faire pour déterminer une valeur de α qui convient ?\n",
    "\n",
    "Lorsque α est trop élevé, tous les coefficients de la régression sont nuls, nous en avons une\n",
    "illustration ici ; lorsque α est trop faible, proche de 0, nous obtenons les coefficients de la\n",
    "régression linéaire multiple usuelle"
   ]
  },
  {
   "cell_type": "code",
   "execution_count": 69,
   "metadata": {},
   "outputs": [],
   "source": [
    "#lasso path (valeurs de alpha à tester)\n",
    "my_alphas = numpy.array([0.001,0.01,0.02,0.025,0.05,0.1,0.25,0.5,0.8,1.0])\n",
    "\n",
    "#La fonction lasso_path() permet de produire les coefficients estimés correspondants :\n",
    "#obtention des valeurs des coefs. corresp.\n",
    "from sklearn.linear_model import lasso_path\n",
    "alpha_for_path, coefs_lasso, _ = lasso_path(ZTrain[:,:16],ZTrain[:,16],alphas=my_alphas)"
   ]
  },
  {
   "cell_type": "code",
   "execution_count": 66,
   "metadata": {},
   "outputs": [
    {
     "name": "stdout",
     "output_type": "stream",
     "text": [
      "(16, 10)\n"
     ]
    }
   ],
   "source": [
    "#dim. matrice des coefficients\n",
    "print(coefs_lasso.shape)"
   ]
  },
  {
   "cell_type": "code",
   "execution_count": 67,
   "metadata": {},
   "outputs": [
    {
     "name": "stdout",
     "output_type": "stream",
     "text": [
      "[1.    0.8   0.5   0.25  0.1   0.05  0.025 0.02  0.01  0.001]\n"
     ]
    }
   ],
   "source": [
    "#alpha utilisés\n",
    "print(alpha_for_path)"
   ]
  },
  {
   "cell_type": "code",
   "execution_count": 71,
   "metadata": {},
   "outputs": [
    {
     "data": {
      "image/png": "[encoded data removed]",
      "text/plain": [
       "<Figure size 432x288 with 1 Axes>"
      ]
     },
     "metadata": {},
     "output_type": "display_data"
    }
   ],
   "source": [
    "#jeu de couleurs pour faire joli\n",
    "import matplotlib.cm as cm\n",
    "couleurs = cm.rainbow(numpy.linspace(0,1,16))\n",
    "\n",
    "#graphique lasso path (une courbe par variable)\n",
    "for i in range(coefs_lasso.shape[0]):\n",
    "    plt.plot(alpha_for_path,coefs_lasso[i,:],c=couleurs[i])\n",
    "    \n",
    "plt.xlabel('Alpha')\n",
    "plt.ylabel('Coefficients')\n",
    "plt.title('Lasso path')\n",
    "plt.show()"
   ]
  },
  {
   "cell_type": "markdown",
   "metadata": {},
   "source": [
    "Pour α = 1.0, tous les coefficients sont nuls effectivement. Pour α = 0.6, deux des coefficients\n",
    "sont non-nuls, ce qui correspond à un scénario où deux seules explicatives sont actives dans\n",
    "la régression. Etc.\n"
   ]
  },
  {
   "cell_type": "code",
   "execution_count": 75,
   "metadata": {},
   "outputs": [
    {
     "name": "stdout",
     "output_type": "stream",
     "text": [
      "   alpha  Nb non-zero coefs\n",
      "0  1.000                  0\n",
      "1  0.800                  0\n",
      "2  0.500                  2\n",
      "3  0.250                  4\n",
      "4  0.100                  4\n",
      "5  0.050                  7\n",
      "6  0.025                  9\n",
      "7  0.020                 10\n",
      "8  0.010                 12\n",
      "9  0.001                 16\n"
     ]
    }
   ],
   "source": [
    "#nombre de coefs. non-nuls pour chaque alpha\n",
    "nbNonZero = numpy.apply_along_axis(func1d=numpy.count_nonzero,arr=coefs_lasso,axis=0)\n",
    "\n",
    "#affichage miexu roganisé alpha vs. nombre de coefs non-nuls \n",
    "print(pandas.DataFrame({'alpha':alpha_for_path,'Nb non-zero coefs':nbNonZero}))"
   ]
  },
  {
   "cell_type": "markdown",
   "metadata": {},
   "source": [
    "Ce tableau est plus engageant sous une forme graphique."
   ]
  },
  {
   "cell_type": "code",
   "execution_count": 76,
   "metadata": {},
   "outputs": [
    {
     "data": {
      "image/png": "[encoded data removed]",
      "text/plain": [
       "<Figure size 432x288 with 1 Axes>"
      ]
     },
     "metadata": {},
     "output_type": "display_data"
    }
   ],
   "source": [
    "#ou sous forme graphique\n",
    "plt.plot(alpha_for_path,nbNonZero)\n",
    "plt.xlabel('Alpha')\n",
    "plt.ylabel('Nb. de variables')\n",
    "plt.title('Nb. variables vs. Alpha')\n",
    "plt.show()"
   ]
  },
  {
   "cell_type": "code",
   "execution_count": 72,
   "metadata": {},
   "outputs": [
    {
     "name": "stdout",
     "output_type": "stream",
     "text": [
      "      Variables  Coefficients\n",
      "0        BatAVG      0.000000\n",
      "1        OnBase      0.000000\n",
      "2          Runs      0.000000\n",
      "3          Hits      0.270675\n",
      "4       Doubles      0.000000\n",
      "5       Triples      0.000000\n",
      "6      HomeRuns      0.000000\n",
      "7           RBI      0.081050\n",
      "8         Walks      0.000000\n",
      "9    StrikeOuts      0.000000\n",
      "10  StolenBases      0.000000\n",
      "11       Errors      0.000000\n",
      "12   FreeAgElig      0.245411\n",
      "13    FreeAge91      0.000000\n",
      "14      ArbElig      0.032138\n",
      "15        Arb91      0.000000\n"
     ]
    }
   ],
   "source": [
    "#nom des variables\n",
    "nom_var = bb.columns[:16]\n",
    "\n",
    "#coefficients pour alpha=0.25 (colonne n°3)\n",
    "coefs25 = coefs_lasso[:,3]\n",
    "\n",
    "#affichage des coefficients  pour alpha = 0.25\n",
    "print(pandas.DataFrame({'Variables':nom_var,'Coefficients':coefs25}))"
   ]
  },
  {
   "cell_type": "markdown",
   "metadata": {},
   "source": [
    "pour 4 variables -- alpha = 0,25 -- Il s’agit de Hits, RBI, FreeAgElig et ArbElig."
   ]
  },
  {
   "cell_type": "markdown",
   "metadata": {},
   "source": [
    "Validation croisée\n",
    "\n",
    "Nous disposons de scénarios de solutions pour différentes versions de α. Mais nous ne savons\n",
    "pas laquelle est la plus performante en prédiction. Dans cette section, nous utilisons la\n",
    "validation croisée LassoCV() pour l’identifier.\n"
   ]
  },
  {
   "cell_type": "code",
   "execution_count": 80,
   "metadata": {},
   "outputs": [
    {
     "name": "stdout",
     "output_type": "stream",
     "text": [
      "[1.    0.8   0.5   0.25  0.1   0.05  0.025 0.02  0.01  0.001]\n",
      "[[0.93649681 0.8999204  1.10600324 1.0127433  1.04483625]\n",
      " [0.93649681 0.8999204  1.10600324 1.0127433  1.04483625]\n",
      " [0.74836709 0.6781293  0.88481882 0.83005599 0.83769334]\n",
      " [0.49603196 0.33392406 0.54118262 0.42756911 0.5835088 ]\n",
      " [0.2454802  0.22685436 0.29207343 0.22519332 0.41121256]\n",
      " [0.19487357 0.22261075 0.25240979 0.19031063 0.376714  ]\n",
      " [0.16429895 0.2193215  0.24264611 0.1854277  0.35736191]\n",
      " [0.15917131 0.22139796 0.24283309 0.18591439 0.35482339]\n",
      " [0.14588651 0.22529395 0.24602707 0.1881818  0.3489667 ]\n",
      " [0.13990895 0.23184779 0.25638676 0.2047393  0.34858521]]\n"
     ]
    }
   ],
   "source": [
    "#validation croisée pour Lasso\n",
    "from sklearn.linear_model import LassoCV\n",
    "\n",
    "#outil pour la détection de la solution la plus performante en validation croisée\n",
    "lcv = LassoCV(alphas=my_alphas,normalize=False,fit_intercept=False,random_state=0,cv=5)\n",
    "    \n",
    "#lancement sur l'échantillon d'apprentissage\n",
    "lcv.fit(ZTrain[:,:16],ZTrain[:,16])    \n",
    "\n",
    "#valeurs des alphas qui ont été testés\n",
    "print(lcv.alphas_)\n",
    "\n",
    "#valeurs des MSE en validation croisée\n",
    "print(lcv.mse_path_)"
   ]
  },
  {
   "cell_type": "markdown",
   "metadata": {},
   "source": [
    "La propriété mse_path_ est une matrice (10 x 5) : 10 parce que 10 versions de α ont été\n",
    "testées ; 5 parce que nous avons demandé une 5-fold validation croisée\n",
    "\n",
    "Nous calculons la moyenne pour disposer d’une mesure de performance synthétique pour\n",
    "chaque scénario. Puis nous affichons le tableau mettant en relation α et le MSE (moyen) en\n",
    "validation croisée"
   ]
  },
  {
   "cell_type": "code",
   "execution_count": 81,
   "metadata": {},
   "outputs": [
    {
     "name": "stdout",
     "output_type": "stream",
     "text": [
      "   alpha       MSE\n",
      "0  1.000  1.000000\n",
      "1  0.800  1.000000\n",
      "2  0.500  0.795813\n",
      "3  0.250  0.476443\n",
      "4  0.100  0.280163\n",
      "5  0.050  0.247384\n",
      "6  0.025  0.233811\n",
      "7  0.020  0.232828\n",
      "8  0.010  0.230871\n",
      "9  0.001  0.236294\n"
     ]
    }
   ],
   "source": [
    "#moyenne mse en validation croisée pour chaque alpha\n",
    "avg_mse = numpy.mean(lcv.mse_path_,axis=1)\n",
    "\n",
    "#alphas vs. MSE en cross-validation\n",
    "print(pandas.DataFrame({'alpha':lcv.alphas_,'MSE':avg_mse}))"
   ]
  },
  {
   "cell_type": "markdown",
   "metadata": {},
   "source": [
    "Que nous pouvons également exprimer sous forme graphique :"
   ]
  },
  {
   "cell_type": "code",
   "execution_count": 82,
   "metadata": {},
   "outputs": [
    {
     "data": {
      "image/png": "[encoded data removed]",
      "text/plain": [
       "<Figure size 432x288 with 1 Axes>"
      ]
     },
     "metadata": {},
     "output_type": "display_data"
    }
   ],
   "source": [
    "#sous-forme graphique\n",
    "plt.plot(lcv.alphas_,avg_mse)\n",
    "plt.xlabel('Alpha')\n",
    "plt.ylabel('MSE')\n",
    "plt.title('MSE vs. Alpha')\n",
    "plt.show()"
   ]
  },
  {
   "cell_type": "code",
   "execution_count": 84,
   "metadata": {},
   "outputs": [
    {
     "name": "stdout",
     "output_type": "stream",
     "text": [
      "0.01\n"
     ]
    }
   ],
   "source": [
    "#best alpha\n",
    "print(lcv.alpha_)"
   ]
  },
  {
   "cell_type": "markdown",
   "metadata": {},
   "source": [
    "α = 0.01 est la solution qui minimise le MSE (0.230871), elle est composée de 12 variables\n",
    "explicatives c.-à-d. 12 coefficients sont différents de zéro dans le modèle"
   ]
  },
  {
   "cell_type": "markdown",
   "metadata": {},
   "source": [
    "Pour appliquer le modèle optimal (α = 0.01), nous devons tout d’abord centrer et réduire les\n",
    "variables explicatives de l’échantillon test en utilisant les paramètres (moyennes, écarts-type)\n",
    "calculés sur l’échantillon d’apprentissage\n",
    "\n",
    "C’est ce que fait la fonction transform() de l’objet StandardScaler"
   ]
  },
  {
   "cell_type": "code",
   "execution_count": 87,
   "metadata": {},
   "outputs": [],
   "source": [
    "#transformation des variables des données test\n",
    "ZTest = sc.transform(bbTest)"
   ]
  },
  {
   "cell_type": "code",
   "execution_count": 88,
   "metadata": {},
   "outputs": [],
   "source": [
    "#prediction avec ce modèle\n",
    "ypzLasso = lcv.predict(ZTest[:,:16])"
   ]
  },
  {
   "cell_type": "raw",
   "metadata": {},
   "source": [
    "Nous disposons d’une prédiction standardisée de la variable à prédire, il faut la déstandardiser pour qu’elle soit exprimée dans l’unité originelle. Ici aussi, nous devons utiliser les paramètres calculés sur l’échantillon d’apprentissage :"
   ]
  },
  {
   "cell_type": "code",
   "execution_count": 86,
   "metadata": {},
   "outputs": [
    {
     "name": "stdout",
     "output_type": "stream",
     "text": [
      "0.31204589721406967\n"
     ]
    }
   ],
   "source": [
    "#dé-standardization de la prédiction\n",
    "ypLasso = ypzLasso*numpy.sqrt(sc.var_[-1]) + sc.mean_[-1]\n",
    "\n",
    "#performances en prédiction\n",
    "print(mean_squared_error(yTest,ypLasso))"
   ]
  },
  {
   "cell_type": "markdown",
   "metadata": {},
   "source": [
    "Nous obtenons une MSE = 0.31204589721406967. Très légèrement moindre (plus la MSE est faible, meilleur est le modèle) qu’avec la régression usuelle avec « statsmodels »\n",
    "\n",
    "pour rappel : 0.33 avec le modele OLS"
   ]
  },
  {
   "cell_type": "markdown",
   "metadata": {},
   "source": [
    "http://eric.univ-lyon2.fr/~ricco/tanagra/fichiers/fr_Tanagra_Regression_Lasso_Python.pdf"
   ]
  },
  {
   "cell_type": "code",
   "execution_count": null,
   "metadata": {},
   "outputs": [],
   "source": []
  }
 ],
 "metadata": {
  "kernelspec": {
   "display_name": "Python 3",
   "language": "python",
   "name": "python3"
  },
  "language_info": {
   "codemirror_mode": {
    "name": "ipython",
    "version": 3
   },
   "file_extension": ".py",
   "mimetype": "text/x-python",
   "name": "python",
   "nbconvert_exporter": "python",
   "pygments_lexer": "ipython3",
   "version": "3.6.5"
  }
 },
 "nbformat": 4,
 "nbformat_minor": 2
}
